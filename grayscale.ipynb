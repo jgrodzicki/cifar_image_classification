{
 "cells": [
  {
   "cell_type": "code",
   "execution_count": 1,
   "metadata": {},
   "outputs": [],
   "source": [
    "import numpy as np\n",
    "import pandas as pd\n",
    "import matplotlib.pyplot as plt\n",
    "import cv2\n",
    "import scipy.stats as sstats\n",
    "from sklearn.model_selection import train_test_split\n",
    "from sklearn.cluster import Birch\n",
    "from sklearn.metrics import confusion_matrix\n",
    "\n",
    "from KNN import KNN"
   ]
  },
  {
   "cell_type": "code",
   "execution_count": 2,
   "metadata": {},
   "outputs": [],
   "source": [
    "def unpickle(file):\n",
    "    import pickle\n",
    "    with open(file, 'rb') as fo:\n",
    "        dict = pickle.load(fo, encoding='bytes')\n",
    "    return dict"
   ]
  },
  {
   "cell_type": "code",
   "execution_count": 3,
   "metadata": {},
   "outputs": [],
   "source": [
    "data_batch_1 = unpickle('cifar10/data_batch_1')"
   ]
  },
  {
   "cell_type": "code",
   "execution_count": 4,
   "metadata": {},
   "outputs": [],
   "source": [
    "db1_labels = np.array(data_batch_1[b'labels'])\n",
    "db1_data = np.array(data_batch_1[b'data'])"
   ]
  },
  {
   "cell_type": "code",
   "execution_count": 19,
   "metadata": {},
   "outputs": [],
   "source": [
    "train_x, test_x, train_y, test_y = train_test_split(db1_data, db1_labels, test_size=0.33)"
   ]
  },
  {
   "cell_type": "code",
   "execution_count": 22,
   "metadata": {},
   "outputs": [],
   "source": [
    "train_x = train_x.reshape(-1, 32*32, 3)\n",
    "test_x = test_x.reshape(-1, 32*32, 3)"
   ]
  },
  {
   "cell_type": "code",
   "execution_count": 30,
   "metadata": {},
   "outputs": [
    {
     "data": {
      "text/plain": [
       "(10000, 3072)"
      ]
     },
     "execution_count": 30,
     "metadata": {},
     "output_type": "execute_result"
    }
   ],
   "source": [
    "db1_data.shape"
   ]
  },
  {
   "cell_type": "code",
   "execution_count": 23,
   "metadata": {},
   "outputs": [],
   "source": [
    "def to_grayscale(x):\n",
    "    new_x = x[:,:,0] * 0.3 + x[:, :, 1] * 0.59 + x[:, :, 2] * 0.11\n",
    "    return new_x.astype(int)"
   ]
  },
  {
   "cell_type": "code",
   "execution_count": 24,
   "metadata": {},
   "outputs": [],
   "source": [
    "gray_train_x = to_grayscale(train_x)\n",
    "gray_test_x = to_grayscale(test_x)"
   ]
  },
  {
   "cell_type": "code",
   "execution_count": 32,
   "metadata": {},
   "outputs": [
    {
     "name": "stdout",
     "output_type": "stream",
     "text": [
      "OG data\n",
      "K: 10\t0.28424242424242424\n",
      "K: 12\t0.283030303030303\n",
      "K: 14\t0.28\n",
      "K: 16\t0.2793939393939394\n",
      "K: 18\t0.2809090909090909\n",
      "K: 20\t0.27545454545454545\n",
      "K: 22\t0.28363636363636363\n",
      "K: 24\t0.28454545454545455\n",
      "K: 26\t0.28393939393939394\n",
      "K: 28\t0.2778787878787879\n",
      "Grayscale data\n",
      "K: 10\t0.2957575757575758\n",
      "K: 12\t0.29454545454545455\n",
      "K: 14\t0.2906060606060606\n",
      "K: 16\t0.2996969696969697\n",
      "K: 18\t0.2921212121212121\n",
      "K: 20\t0.2881818181818182\n",
      "K: 22\t0.2881818181818182\n",
      "K: 24\t0.29\n",
      "K: 26\t0.29333333333333333\n",
      "K: 28\t0.2915151515151515\n"
     ]
    }
   ],
   "source": [
    "ks = np.arange(10, 30, 2)\n",
    "knn = KNN(train_x.reshape(-1, db1_data.shape[1]), train_y, test_x.reshape(-1, db1_data.shape[1]), ks)\n",
    "\n",
    "print(f'OG data')\n",
    "for k in ks:\n",
    "    print(f'K: {k}\\t{np.count_nonzero(knn[k] == test_y) / len(test_y)}')\n",
    "\n",
    "knn = KNN(gray_train_x, train_y, gray_test_x, ks)\n",
    "print(f'Grayscale data')\n",
    "for k in ks:\n",
    "    print(f'K: {k}\\t{np.count_nonzero(knn[k] == test_y) / len(test_y)}')"
   ]
  },
  {
   "cell_type": "code",
   "execution_count": null,
   "metadata": {},
   "outputs": [],
   "source": []
  }
 ],
 "metadata": {
  "kernelspec": {
   "display_name": "Python 3",
   "language": "python",
   "name": "python3"
  },
  "language_info": {
   "codemirror_mode": {
    "name": "ipython",
    "version": 3
   },
   "file_extension": ".py",
   "mimetype": "text/x-python",
   "name": "python",
   "nbconvert_exporter": "python",
   "pygments_lexer": "ipython3",
   "version": "3.7.3"
  }
 },
 "nbformat": 4,
 "nbformat_minor": 4
}
