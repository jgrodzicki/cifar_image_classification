{
 "cells": [
  {
   "cell_type": "code",
   "execution_count": 1,
   "metadata": {},
   "outputs": [],
   "source": [
    "from sklearn.metrics import confusion_matrix\n",
    "import numpy as np"
   ]
  },
  {
   "cell_type": "code",
   "execution_count": 2,
   "metadata": {},
   "outputs": [],
   "source": [
    "preds = open('preds.txt').read()[1:-1].split(', ')\n",
    "true_labels = open('true_labels.txt').read()[1:-1].split(', ')\n",
    "labels = ['Airplane', 'Automobile', 'Bird', 'Cat', 'Deer', 'Dog', 'Frog', 'Horse', 'Ship', 'Truck']"
   ]
  },
  {
   "cell_type": "code",
   "execution_count": 3,
   "metadata": {},
   "outputs": [
    {
     "name": "stdout",
     "output_type": "stream",
     "text": [
      "Accuracy: 0.5\n",
      "Confusion matrix:\n",
      "[[ 934   70   92   52   76   43   46   51  204   88]\n",
      " [  68 1022   41   54   36   21   55   38  109  210]\n",
      " [ 166   33  676  131  256   81  209   76   41   29]\n",
      " [  52   47  186  554  120  270  230   63   53   58]\n",
      " [  93   27  215   98  724   86  242  129   41   25]\n",
      " [  42   43  176  339  112  595  148   89   28   34]\n",
      " [  25   26  135  163  154   92  938   30   15   32]\n",
      " [  83   37  143  105  183   85   62  849   34   65]\n",
      " [ 193   95   44   43   48   36   17   18 1079   92]\n",
      " [  92  262   47   62   34   53   52   58  100  892]]\n",
      "\n",
      "Classes:\n",
      "\tAirplane\n",
      "\tAutomobile\n",
      "\tBird\n",
      "\tCat\n",
      "\tDeer\n",
      "\tDog\n",
      "\tFrog\n",
      "\tHorse\n",
      "\tShip\n",
      "\tTruck\n"
     ]
    }
   ],
   "source": [
    "conf_matrix = confusion_matrix(true_labels, preds)\n",
    "acc = np.round(np.count_nonzero(np.array(true_labels) == np.array(preds)) / len(preds), 2)\n",
    "\n",
    "print(f'Accuracy: {acc}')\n",
    "print(f'Confusion matrix:\\n{conf_matrix}')\n",
    "print('\\nClasses:\\n\\t' + '\\n\\t'.join(labels))"
   ]
  },
  {
   "cell_type": "code",
   "execution_count": 8,
   "metadata": {},
   "outputs": [
    {
     "name": "stdout",
     "output_type": "stream",
     "text": [
      "Airplane: 0.56\n",
      "Automobile: 0.62\n",
      "Bird: 0.4\n",
      "Cat: 0.34\n",
      "Deer: 0.43\n",
      "Dog: 0.37\n",
      "Frog: 0.58\n",
      "Horse: 0.52\n",
      "Ship: 0.65\n",
      "Truck: 0.54\n"
     ]
    }
   ],
   "source": [
    "for s, l in np.c_[np.diag(conf_matrix) / np.sum(conf_matrix, axis=1), labels]:\n",
    "    print(f'{l}: {np.round(float(s), 2)}')"
   ]
  },
  {
   "cell_type": "code",
   "execution_count": null,
   "metadata": {},
   "outputs": [],
   "source": []
  }
 ],
 "metadata": {
  "kernelspec": {
   "display_name": "Python 3",
   "language": "python",
   "name": "python3"
  },
  "language_info": {
   "codemirror_mode": {
    "name": "ipython",
    "version": 3
   },
   "file_extension": ".py",
   "mimetype": "text/x-python",
   "name": "python",
   "nbconvert_exporter": "python",
   "pygments_lexer": "ipython3",
   "version": "3.8.1"
  }
 },
 "nbformat": 4,
 "nbformat_minor": 4
}
