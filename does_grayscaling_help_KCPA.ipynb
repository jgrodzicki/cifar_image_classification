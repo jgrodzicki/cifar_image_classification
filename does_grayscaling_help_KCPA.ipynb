{
 "cells": [
  {
   "cell_type": "code",
   "execution_count": 1,
   "metadata": {},
   "outputs": [],
   "source": [
    "import numpy as np\n",
    "import pandas as pd\n",
    "import matplotlib.pyplot as plt\n",
    "import cv2\n",
    "import scipy.stats as sstats\n",
    "from sklearn.model_selection import train_test_split\n",
    "from sklearn.cluster import Birch\n",
    "from sklearn.metrics import confusion_matrix\n",
    "from sklearn import (datasets, decomposition, ensemble, manifold, random_projection)\n",
    "from sklearn.naive_bayes import MultinomialNB\n",
    "import tqdm\n",
    "\n",
    "from KNN import KNN"
   ]
  },
  {
   "cell_type": "code",
   "execution_count": 2,
   "metadata": {},
   "outputs": [],
   "source": [
    "def unpickle(file):\n",
    "    import pickle\n",
    "    with open(file, 'rb') as fo:\n",
    "        dict = pickle.load(fo, encoding='bytes')\n",
    "    return dict\n",
    "\n",
    "data_batch_1 = unpickle('cifar10/data_batch_1')\n",
    "\n",
    "\n",
    "db1_labels = np.array(data_batch_1[b'labels'])\n",
    "db1_data = np.array(data_batch_1[b'data'])\n",
    "\n",
    "trainx, testx, trainy, testy = train_test_split(db1_data, db1_labels, test_size=0.33)"
   ]
  },
  {
   "cell_type": "code",
   "execution_count": 5,
   "metadata": {},
   "outputs": [],
   "source": [
    "def to_grayscale(x):\n",
    "    new_x = x[:,:,0] * 0.3 + x[:, :, 1] * 0.59 + x[:, :, 2] * 0.11\n",
    "    return new_x.astype(int)\n",
    "\n",
    "train_x = trainx.reshape(-1, 32*32, 3)\n",
    "test_x = testx.reshape(-1, 32*32, 3)\n",
    "gray_train_x = to_grayscale(train_x)\n",
    "gray_test_x = to_grayscale(test_x)"
   ]
  },
  {
   "cell_type": "code",
   "execution_count": 6,
   "metadata": {},
   "outputs": [
    {
     "name": "stderr",
     "output_type": "stream",
     "text": [
      " 20%|████████████████▊                                                                   | 1/5 [00:41<02:44, 41.19s/it]"
     ]
    },
    {
     "name": "stdout",
     "output_type": "stream",
     "text": [
      "KNN accuracy: 28.999999999999996 % on linear kernel\n"
     ]
    },
    {
     "name": "stderr",
     "output_type": "stream",
     "text": [
      " 40%|█████████████████████████████████▏                                                 | 2/5 [06:19<06:30, 130.18s/it]"
     ]
    },
    {
     "name": "stdout",
     "output_type": "stream",
     "text": [
      "KNN accuracy: 27.0 % on poly kernel\n"
     ]
    },
    {
     "name": "stderr",
     "output_type": "stream",
     "text": [
      " 60%|█████████████████████████████████████████████████▊                                 | 3/5 [07:12<03:34, 107.18s/it]"
     ]
    },
    {
     "name": "stdout",
     "output_type": "stream",
     "text": [
      "KNN accuracy: 10.0 % on rbf kernel\n"
     ]
    },
    {
     "name": "stderr",
     "output_type": "stream",
     "text": [
      " 80%|███████████████████████████████████████████████████████████████████▏                | 4/5 [07:56<01:28, 88.18s/it]"
     ]
    },
    {
     "name": "stdout",
     "output_type": "stream",
     "text": [
      "KNN accuracy: 10.0 % on sigmoid kernel\n"
     ]
    },
    {
     "name": "stderr",
     "output_type": "stream",
     "text": [
      "100%|███████████████████████████████████████████████████████████████████████████████████| 5/5 [08:44<00:00, 104.91s/it]"
     ]
    },
    {
     "name": "stdout",
     "output_type": "stream",
     "text": [
      "KNN accuracy: 30.0 % on cosine kernel\n"
     ]
    },
    {
     "name": "stderr",
     "output_type": "stream",
     "text": [
      "\n"
     ]
    },
    {
     "data": {
      "text/plain": [
       "[<matplotlib.lines.Line2D at 0x1d300014fa0>]"
      ]
     },
     "execution_count": 6,
     "metadata": {},
     "output_type": "execute_result"
    },
    {
     "data": {
      "image/png": "[encoded data removed]",
      "text/plain": [
       "<Figure size 432x288 with 1 Axes>"
      ]
     },
     "metadata": {
      "needs_background": "light"
     },
     "output_type": "display_data"
    }
   ],
   "source": [
    "def kpca_kernels_comparison():\n",
    "    kers = ['linear','poly','rbf', 'sigmoid', 'cosine']\n",
    "\n",
    "    accs = []\n",
    "    for ker in tqdm.tqdm(kers):\n",
    "        kpca = decomposition.KernelPCA(n_components=None, kernel=ker, gamma=0.01)\n",
    "        x_proj = kpca.fit_transform(trainx)\n",
    "        x_test_proj = kpca.transform(testx)\n",
    "        knn = KNN(x_proj, trainy, x_test_proj, [7])\n",
    "\n",
    "        \n",
    "        temp_acc = np.round(np.count_nonzero(knn[7] == testy)/len(testy),2)*100\n",
    "        accs.append(temp_acc)\n",
    "        print(f\"KNN accuracy: {temp_acc} % on {ker} kernel\")\n",
    "\n",
    "    return kers, accs\n",
    "    \n",
    "kernels_after_gs, accuracies_after_gc = kpca_kernels_comparison()\n",
    "plt.figure()\n",
    "plt.plot(kernels_after_gs, accuracies_after_gc)"
   ]
  },
  {
   "cell_type": "markdown",
   "metadata": {},
   "source": [
    "Po wyszarzaniu w zasadzie bez zmian. Delikatnie lepiej w przypadku kerneli liniowych i wielomianowych."
   ]
  },
  {
   "cell_type": "code",
   "execution_count": 7,
   "metadata": {},
   "outputs": [
    {
     "name": "stderr",
     "output_type": "stream",
     "text": [
      "  0%|                                                                                            | 0/3 [00:00<?, ?it/s]"
     ]
    },
    {
     "name": "stdout",
     "output_type": "stream",
     "text": [
      "KNN accuracy: 28.999999999999996 % on linear kernel\n",
      "KNN accuracy: 28.999999999999996 % on linear kernel\n",
      "KNN accuracy: 28.999999999999996 % on linear kernel\n"
     ]
    },
    {
     "name": "stderr",
     "output_type": "stream",
     "text": [
      " 33%|███████████████████████████▋                                                       | 1/3 [02:52<05:45, 172.51s/it]"
     ]
    },
    {
     "name": "stdout",
     "output_type": "stream",
     "text": [
      "KNN accuracy: 28.999999999999996 % on linear kernel\n",
      "KNN accuracy: 27.0 % on poly kernel\n",
      "KNN accuracy: 27.0 % on poly kernel\n",
      "KNN accuracy: 27.0 % on poly kernel\n"
     ]
    },
    {
     "name": "stderr",
     "output_type": "stream",
     "text": [
      " 67%|███████████████████████████████████████████████████████▎                           | 2/3 [25:27<08:47, 527.38s/it]"
     ]
    },
    {
     "name": "stdout",
     "output_type": "stream",
     "text": [
      "KNN accuracy: 27.0 % on poly kernel\n",
      "KNN accuracy: 30.0 % on cosine kernel\n",
      "KNN accuracy: 30.0 % on cosine kernel\n",
      "KNN accuracy: 30.0 % on cosine kernel\n"
     ]
    },
    {
     "name": "stderr",
     "output_type": "stream",
     "text": [
      "100%|███████████████████████████████████████████████████████████████████████████████████| 3/3 [28:30<00:00, 570.20s/it]"
     ]
    },
    {
     "name": "stdout",
     "output_type": "stream",
     "text": [
      "KNN accuracy: 30.0 % on cosine kernel\n"
     ]
    },
    {
     "name": "stderr",
     "output_type": "stream",
     "text": [
      "\n"
     ]
    }
   ],
   "source": [
    "def kpca_3kernels_comparison():\n",
    "    kers = ['linear','poly', 'cosine']\n",
    "    gammas = [1, 0.1, 0.01, 0.0001]\n",
    "    accs = []\n",
    "    for ker in tqdm.tqdm(kers):\n",
    "        for g in gammas:\n",
    "            kpca = decomposition.KernelPCA(n_components=None, kernel=ker, gamma=g)\n",
    "            x_proj = kpca.fit_transform(trainx)\n",
    "            x_test_proj = kpca.transform(testx)\n",
    "            knn = KNN(x_proj, trainy, x_test_proj, [7])\n",
    "\n",
    "\n",
    "            temp_acc = np.round(np.count_nonzero(knn[7] == testy)/len(testy),2)*100\n",
    "            accs.append(temp_acc)\n",
    "            print(f\"KNN accuracy: {temp_acc} % on {ker} kernel\")\n",
    "\n",
    "    return kers, accs\n",
    "    \n",
    "kernels_after_gs, accuracies_after_gc = kpca_3kernels_comparison()\n",
    "# plt.figure()\n",
    "# plt.plot(kernels_after_gs, accuracies_after_gc)"
   ]
  }
 ],
 "metadata": {
  "kernelspec": {
   "display_name": "Python 3",
   "language": "python",
   "name": "python3"
  },
  "language_info": {
   "codemirror_mode": {
    "name": "ipython",
    "version": 3
   },
   "file_extension": ".py",
   "mimetype": "text/x-python",
   "name": "python",
   "nbconvert_exporter": "python",
   "pygments_lexer": "ipython3",
   "version": "3.8.1"
  }
 },
 "nbformat": 4,
 "nbformat_minor": 4
}
