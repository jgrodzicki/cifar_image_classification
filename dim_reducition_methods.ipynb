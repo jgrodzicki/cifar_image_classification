{
 "cells": [
  {
   "cell_type": "code",
   "execution_count": 1,
   "metadata": {},
   "outputs": [],
   "source": [
    "import numpy as np\n",
    "import pandas as pd\n",
    "import matplotlib.pyplot as plt\n",
    "import cv2\n",
    "import scipy.stats as sstats\n",
    "from sklearn.model_selection import train_test_split\n",
    "from sklearn.cluster import Birch\n",
    "from sklearn.metrics import confusion_matrix\n",
    "from sklearn import (datasets, decomposition, ensemble, manifold, random_projection)\n",
    "from sklearn.naive_bayes import MultinomialNB\n",
    "import tqdm"
   ]
  },
  {
   "cell_type": "code",
   "execution_count": 2,
   "metadata": {},
   "outputs": [],
   "source": [
    "def accuracy_plot(axs, accs):\n",
    "    plt.figure()\n",
    "    plt.plot(axs, accs)\n",
    "    \n",
    "def KNN(train_X, train_Y, test_X, ks, verbose=False):\n",
    "    \"\"\"\n",
    "    Compute predictions for various k\n",
    "    Args:\n",
    "        train_X: array of shape Ntrain x D\n",
    "        train_Y: array of shape Ntrain\n",
    "        test_X: array of shape Ntest x D\n",
    "        ks: list of integers\n",
    "    Returns:\n",
    "        preds: dict k: predictions for k\n",
    "    \"\"\"\n",
    "    # Cats data to float32\n",
    "    train_X = train_X.astype(np.float32)\n",
    "    test_X = test_X.astype(np.float32)\n",
    "\n",
    "    # Alloc space for results\n",
    "    preds = {}\n",
    "    \n",
    "\n",
    "    if verbose:\n",
    "        print(\"Computing distances... \", end='')\n",
    "    \n",
    "    dists = -2 * np.dot(train_X, test_X.T) + np.sum(test_X**2, axis=1) + np.sum(train_X**2, axis=1)[:, np.newaxis]\n",
    "    \n",
    "    if verbose:\n",
    "        print(\"Sorting... \", end='')\n",
    "\n",
    "    closest = np.argsort(dists, axis=0)\n",
    "\n",
    "    if verbose:\n",
    "        print(\"Computing predictions...\", end='')\n",
    "    \n",
    "    targets = train_Y[closest]\n",
    "\n",
    "    for k in ks:\n",
    "        predictions = sstats.mode(targets[:k])[0]\n",
    "        predictions = predictions.ravel()\n",
    "        preds[k] = predictions\n",
    "    if verbose:\n",
    "        print(\"Done\")\n",
    "    return preds"
   ]
  },
  {
   "cell_type": "code",
   "execution_count": 3,
   "metadata": {},
   "outputs": [],
   "source": [
    "def unpickle(file):\n",
    "    import pickle\n",
    "    with open(file, 'rb') as fo:\n",
    "        dict = pickle.load(fo, encoding='bytes')\n",
    "    return dict\n",
    "\n",
    "data_batch_1 = unpickle('cifar10/data_batch_1')\n",
    "\n",
    "\n",
    "db1_labels = np.array(data_batch_1[b'labels'])\n",
    "db1_data = np.array(data_batch_1[b'data'])\n",
    "\n",
    "trainx, testx, trainy, testy = train_test_split(db1_data, db1_labels, test_size=0.33)"
   ]
  },
  {
   "cell_type": "code",
   "execution_count": 10,
   "metadata": {},
   "outputs": [
    {
     "name": "stderr",
     "output_type": "stream",
     "text": [
      "  0%|                                                                            | 0/8 [00:00<?, ?it/s]"
     ]
    },
    {
     "name": "stdout",
     "output_type": "stream",
     "text": [
      "KPCA\n"
     ]
    },
    {
     "name": "stderr",
     "output_type": "stream",
     "text": [
      " 12%|████████▌                                                           | 1/8 [00:33<03:51, 33.05s/it]"
     ]
    },
    {
     "name": "stdout",
     "output_type": "stream",
     "text": [
      "KNN accuracy: 30.0 % on 10 axes\n"
     ]
    },
    {
     "name": "stderr",
     "output_type": "stream",
     "text": [
      " 25%|█████████████████                                                   | 2/8 [01:05<03:17, 32.84s/it]"
     ]
    },
    {
     "name": "stdout",
     "output_type": "stream",
     "text": [
      "KNN accuracy: 30.0 % on 13 axes\n"
     ]
    },
    {
     "name": "stderr",
     "output_type": "stream",
     "text": [
      " 38%|█████████████████████████▌                                          | 3/8 [01:38<02:44, 32.93s/it]"
     ]
    },
    {
     "name": "stdout",
     "output_type": "stream",
     "text": [
      "KNN accuracy: 31.0 % on 16 axes\n"
     ]
    },
    {
     "name": "stderr",
     "output_type": "stream",
     "text": [
      " 50%|██████████████████████████████████                                  | 4/8 [02:11<02:11, 32.90s/it]"
     ]
    },
    {
     "name": "stdout",
     "output_type": "stream",
     "text": [
      "KNN accuracy: 31.0 % on 19 axes\n"
     ]
    },
    {
     "name": "stderr",
     "output_type": "stream",
     "text": [
      " 62%|██████████████████████████████████████████▌                         | 5/8 [02:44<01:38, 32.96s/it]"
     ]
    },
    {
     "name": "stdout",
     "output_type": "stream",
     "text": [
      "KNN accuracy: 31.0 % on 22 axes\n"
     ]
    },
    {
     "name": "stderr",
     "output_type": "stream",
     "text": [
      " 75%|███████████████████████████████████████████████████                 | 6/8 [03:18<01:06, 33.22s/it]"
     ]
    },
    {
     "name": "stdout",
     "output_type": "stream",
     "text": [
      "KNN accuracy: 31.0 % on 25 axes\n"
     ]
    },
    {
     "name": "stderr",
     "output_type": "stream",
     "text": [
      " 88%|███████████████████████████████████████████████████████████▌        | 7/8 [03:50<00:32, 32.93s/it]"
     ]
    },
    {
     "name": "stdout",
     "output_type": "stream",
     "text": [
      "KNN accuracy: 31.0 % on 28 axes\n"
     ]
    },
    {
     "name": "stderr",
     "output_type": "stream",
     "text": [
      "100%|████████████████████████████████████████████████████████████████████| 8/8 [04:23<00:00, 32.96s/it]"
     ]
    },
    {
     "name": "stdout",
     "output_type": "stream",
     "text": [
      "KNN accuracy: 32.0 % on 31 axes\n"
     ]
    },
    {
     "name": "stderr",
     "output_type": "stream",
     "text": [
      "\n"
     ]
    },
    {
     "data": {
      "image/png": "[encoded data removed]",
      "text/plain": [
       "<Figure size 432x288 with 1 Axes>"
      ]
     },
     "metadata": {
      "needs_background": "light"
     },
     "output_type": "display_data"
    }
   ],
   "source": [
    "def kpca():\n",
    "    print(\"KPCA\")\n",
    "    OS = np.arange(10,33,3)\n",
    "\n",
    "    accs = []\n",
    "    for oss in tqdm.tqdm(OS):\n",
    "        kpca = decomposition.KernelPCA(n_components=oss, kernel=\"poly\", gamma=0.01)\n",
    "        x_proj = kpca.fit_transform(trainx)\n",
    "        x_test_proj = kpca.transform(testx)\n",
    "        knn = KNN(x_proj, trainy, x_test_proj, [7])\n",
    "\n",
    "    #     sum_up(knn[7], testy)\n",
    "        temp_acc = np.round(np.count_nonzero(knn[7] == testy)/len(testy),2)*100\n",
    "        accs.append(temp_acc)\n",
    "        print(f\"KNN accuracy: {temp_acc} % on {oss} axes\")\n",
    "\n",
    "    accuracy_plot(OS, accs)\n",
    "    \n",
    "kpca()"
   ]
  },
  {
   "cell_type": "code",
   "execution_count": 4,
   "metadata": {},
   "outputs": [
    {
     "name": "stderr",
     "output_type": "stream",
     "text": [
      "  0%|                                                                                            | 0/6 [00:00<?, ?it/s]"
     ]
    },
    {
     "name": "stdout",
     "output_type": "stream",
     "text": [
      "Isomap\n"
     ]
    },
    {
     "name": "stderr",
     "output_type": "stream",
     "text": [
      " 17%|█████████████▊                                                                     | 1/6 [06:06<30:31, 366.33s/it]"
     ]
    },
    {
     "name": "stdout",
     "output_type": "stream",
     "text": [
      "KNN accuracy: 13.0 % on 1 neighbours\n"
     ]
    },
    {
     "name": "stderr",
     "output_type": "stream",
     "text": [
      " 33%|███████████████████████████▋                                                       | 2/6 [13:01<25:23, 380.86s/it]"
     ]
    },
    {
     "name": "stdout",
     "output_type": "stream",
     "text": [
      "KNN accuracy: 17.0 % on 6 neighbours\n"
     ]
    },
    {
     "name": "stderr",
     "output_type": "stream",
     "text": [
      " 50%|█████████████████████████████████████████▌                                         | 3/6 [20:01<19:37, 392.62s/it]"
     ]
    },
    {
     "name": "stdout",
     "output_type": "stream",
     "text": [
      "KNN accuracy: 17.0 % on 11 neighbours\n"
     ]
    },
    {
     "name": "stderr",
     "output_type": "stream",
     "text": [
      " 67%|███████████████████████████████████████████████████████▎                           | 4/6 [27:07<13:25, 402.71s/it]"
     ]
    },
    {
     "name": "stdout",
     "output_type": "stream",
     "text": [
      "KNN accuracy: 18.0 % on 16 neighbours\n"
     ]
    },
    {
     "name": "stderr",
     "output_type": "stream",
     "text": [
      " 83%|█████████████████████████████████████████████████████████████████████▏             | 5/6 [34:17<06:50, 410.84s/it]"
     ]
    },
    {
     "name": "stdout",
     "output_type": "stream",
     "text": [
      "KNN accuracy: 18.0 % on 21 neighbours\n"
     ]
    },
    {
     "name": "stderr",
     "output_type": "stream",
     "text": [
      "100%|███████████████████████████████████████████████████████████████████████████████████| 6/6 [41:39<00:00, 416.54s/it]"
     ]
    },
    {
     "name": "stdout",
     "output_type": "stream",
     "text": [
      "KNN accuracy: 18.0 % on 26 neighbours\n"
     ]
    },
    {
     "name": "stderr",
     "output_type": "stream",
     "text": [
      "\n"
     ]
    },
    {
     "data": {
      "image/png": "[encoded data removed]",
      "text/plain": [
       "<Figure size 432x288 with 1 Axes>"
      ]
     },
     "metadata": {
      "needs_background": "light"
     },
     "output_type": "display_data"
    }
   ],
   "source": [
    "def isomap():\n",
    "    print(\"Isomap\")\n",
    "    OS = np.arange(1,30,5)\n",
    "\n",
    "    accs = []\n",
    "    for oss in tqdm.tqdm(OS):\n",
    "        iso = manifold.Isomap(n_components=2, n_neighbors=oss)\n",
    "        x_proj = iso.fit_transform(trainx)\n",
    "        x_test_proj = iso.transform(testx)\n",
    "        knn = KNN(x_proj, trainy, x_test_proj, [7])\n",
    "\n",
    "        temp_acc = np.round(np.count_nonzero(knn[7] == testy)/len(testy),2)*100\n",
    "        accs.append(temp_acc)\n",
    "        print(f\"KNN accuracy: {temp_acc} % on {oss} neighbours\")\n",
    "\n",
    "    accuracy_plot(OS, accs)\n",
    "    \n",
    "isomap()"
   ]
  },
  {
   "cell_type": "code",
   "execution_count": 5,
   "metadata": {},
   "outputs": [
    {
     "name": "stderr",
     "output_type": "stream",
     "text": [
      "  0%|                                                                                            | 0/1 [00:00<?, ?it/s]"
     ]
    },
    {
     "name": "stdout",
     "output_type": "stream",
     "text": [
      "LLE\n"
     ]
    },
    {
     "name": "stderr",
     "output_type": "stream",
     "text": [
      "100%|███████████████████████████████████████████████████████████████████████████████████| 1/1 [06:47<00:00, 407.32s/it]"
     ]
    },
    {
     "name": "stdout",
     "output_type": "stream",
     "text": [
      "KNN accuracy: 23.0 % on 10 axes\n"
     ]
    },
    {
     "name": "stderr",
     "output_type": "stream",
     "text": [
      "\n"
     ]
    },
    {
     "data": {
      "image/png": "[encoded data removed]",
      "text/plain": [
       "<Figure size 432x288 with 1 Axes>"
      ]
     },
     "metadata": {
      "needs_background": "light"
     },
     "output_type": "display_data"
    }
   ],
   "source": [
    "def lle():\n",
    "    print(\"LLE\")\n",
    "    OS = np.arange(10,11,1)\n",
    "\n",
    "    accs = []\n",
    "    for oss in tqdm.tqdm(OS):\n",
    "        X_lle = manifold.LocallyLinearEmbedding(n_neighbors=oss, n_components=10)\n",
    "        x_proj = X_lle.fit_transform(trainx)\n",
    "        x_test_proj = X_lle.transform(testx)\n",
    "        knn = KNN(x_proj, trainy, x_test_proj, [7])\n",
    "\n",
    "        temp_acc = np.round(np.count_nonzero(knn[7] == testy)/len(testy),2)*100\n",
    "        accs.append(temp_acc)\n",
    "        print(f\"KNN accuracy: {temp_acc} % on {oss} axes\")\n",
    "\n",
    "    accuracy_plot(OS, accs)\n",
    "    \n",
    "lle()"
   ]
  },
  {
   "cell_type": "code",
   "execution_count": 6,
   "metadata": {},
   "outputs": [
    {
     "name": "stderr",
     "output_type": "stream",
     "text": [
      "  0%|                                                                                            | 0/2 [00:00<?, ?it/s]"
     ]
    },
    {
     "name": "stdout",
     "output_type": "stream",
     "text": [
      "MDS\n"
     ]
    },
    {
     "name": "stderr",
     "output_type": "stream",
     "text": [
      " 50%|█████████████████████████████████████████▌                                         | 1/2 [05:37<05:37, 337.38s/it]"
     ]
    },
    {
     "name": "stdout",
     "output_type": "stream",
     "text": [
      "KNN accuracy: 13.0 % on 1 components\n"
     ]
    },
    {
     "name": "stderr",
     "output_type": "stream",
     "text": [
      "100%|███████████████████████████████████████████████████████████████████████████████████| 2/2 [14:01<00:00, 420.57s/it]"
     ]
    },
    {
     "name": "stdout",
     "output_type": "stream",
     "text": [
      "KNN accuracy: 18.0 % on 501 components\n"
     ]
    },
    {
     "name": "stderr",
     "output_type": "stream",
     "text": [
      "\n"
     ]
    },
    {
     "data": {
      "image/png": "[encoded data removed]",
      "text/plain": [
       "<Figure size 432x288 with 1 Axes>"
      ]
     },
     "metadata": {
      "needs_background": "light"
     },
     "output_type": "display_data"
    }
   ],
   "source": [
    "def MDS():\n",
    "    print(\"MDS\")\n",
    "    OS = np.arange(1,1000,500)\n",
    "\n",
    "    accs = []\n",
    "    for oss in tqdm.tqdm(OS):\n",
    "        mds = manifold.MDS(n_components=oss, n_init=1, max_iter=100)\n",
    "        x_proj = mds.fit_transform(np.vstack((trainx, testx)))\n",
    "        knn = KNN(x_proj[:trainx.shape[0]], trainy, x_proj[trainx.shape[0]:], [7])\n",
    "\n",
    "        temp_acc = np.round(np.count_nonzero(knn[7] == testy)/len(testy),2)*100\n",
    "        accs.append(temp_acc)\n",
    "        print(f\"KNN accuracy: {temp_acc} % on {oss} components\")\n",
    "\n",
    "    accuracy_plot(OS, accs)\n",
    "    \n",
    "MDS()"
   ]
  },
  {
   "cell_type": "code",
   "execution_count": 10,
   "metadata": {},
   "outputs": [
    {
     "name": "stdout",
     "output_type": "stream",
     "text": [
      "(6700, 3072) (3300, 3072)\n"
     ]
    }
   ],
   "source": [
    "print(trainx.shape, testx.shape)"
   ]
  },
  {
   "cell_type": "code",
   "execution_count": 8,
   "metadata": {},
   "outputs": [
    {
     "name": "stderr",
     "output_type": "stream",
     "text": [
      "  0%|                                                                                            | 0/1 [00:00<?, ?it/s]"
     ]
    },
    {
     "name": "stdout",
     "output_type": "stream",
     "text": [
      "tSNE\n"
     ]
    },
    {
     "name": "stderr",
     "output_type": "stream",
     "text": [
      "100%|███████████████████████████████████████████████████████████████████████████████████| 1/1 [11:36<00:00, 696.28s/it]"
     ]
    },
    {
     "name": "stdout",
     "output_type": "stream",
     "text": [
      "KNN accuracy: 18.0 % \n"
     ]
    },
    {
     "name": "stderr",
     "output_type": "stream",
     "text": [
      "\n"
     ]
    },
    {
     "data": {
      "image/png": "[encoded data removed]",
      "text/plain": [
       "<Figure size 432x288 with 1 Axes>"
      ]
     },
     "metadata": {
      "needs_background": "light"
     },
     "output_type": "display_data"
    }
   ],
   "source": [
    "def tSNE():\n",
    "    print(\"tSNE\")\n",
    "    OS = [0]\n",
    "\n",
    "    accs = []\n",
    "    for oss in tqdm.tqdm(OS):\n",
    "        tsne = manifold.TSNE(n_components=2, init='pca')\n",
    "        x_proj = tsne.fit_transform(np.vstack((trainx, testx)))\n",
    "#         x_test_proj = tsne.transform(testx)\n",
    "        knn = KNN(x_proj[:trainx.shape[0]], trainy, x_proj[trainx.shape[0]:], [7])\n",
    "\n",
    "        temp_acc = np.round(np.count_nonzero(knn[7] == testy)/len(testy),2)*100\n",
    "        accs.append(temp_acc)\n",
    "        print(f\"KNN accuracy: {temp_acc} % \")\n",
    "\n",
    "    accuracy_plot(OS, accs)\n",
    "    \n",
    "tSNE()"
   ]
  }
 ],
 "metadata": {
  "kernelspec": {
   "display_name": "Python 3",
   "language": "python",
   "name": "python3"
  },
  "language_info": {
   "codemirror_mode": {
    "name": "ipython",
    "version": 3
   },
   "file_extension": ".py",
   "mimetype": "text/x-python",
   "name": "python",
   "nbconvert_exporter": "python",
   "pygments_lexer": "ipython3",
   "version": "3.8.1"
  }
 },
 "nbformat": 4,
 "nbformat_minor": 4
}
