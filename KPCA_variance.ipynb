{
 "cells": [
  {
   "cell_type": "code",
   "execution_count": 1,
   "metadata": {},
   "outputs": [],
   "source": [
    "import numpy as np\n",
    "import pandas as pd\n",
    "import matplotlib.pyplot as plt\n",
    "import cv2\n",
    "import scipy.stats as sstats\n",
    "from sklearn.model_selection import train_test_split\n",
    "from sklearn.cluster import Birch\n",
    "from sklearn.metrics import confusion_matrix\n",
    "from sklearn import (datasets, decomposition, ensemble, manifold, random_projection)\n",
    "from sklearn.naive_bayes import MultinomialNB\n",
    "import tqdm\n",
    "\n",
    "import KNN"
   ]
  },
  {
   "cell_type": "code",
   "execution_count": 2,
   "metadata": {},
   "outputs": [],
   "source": [
    "def accuracy_plot(axs, accs):\n",
    "    plt.figure()\n",
    "    plt.plot(axs, accs)"
   ]
  },
  {
   "cell_type": "code",
   "execution_count": 3,
   "metadata": {},
   "outputs": [],
   "source": [
    "def unpickle(file):\n",
    "    import pickle\n",
    "    with open(file, 'rb') as fo:\n",
    "        dict = pickle.load(fo, encoding='bytes')\n",
    "    return dict\n",
    "\n",
    "data_batch_1 = unpickle('cifar10/data_batch_1')\n",
    "\n",
    "\n",
    "db1_labels = np.array(data_batch_1[b'labels'])\n",
    "db1_data = np.array(data_batch_1[b'data'])\n",
    "\n",
    "trainx, testx, trainy, testy = train_test_split(db1_data, db1_labels, test_size=0.33)"
   ]
  },
  {
   "cell_type": "markdown",
   "metadata": {},
   "source": [
    "# KPCA"
   ]
  },
  {
   "cell_type": "code",
   "execution_count": null,
   "metadata": {},
   "outputs": [],
   "source": [
    "def kpca_kernels_comparison():\n",
    "    OS = ['linear','poly','rbf', 'sigmoid', 'cosine']\n",
    "\n",
    "    accs = []\n",
    "    for oss in tqdm.tqdm(OS):\n",
    "        kpca = decomposition.KernelPCA(n_components=None, kernel=\"poly\", gamma=0.01)\n",
    "        x_proj = kpca.fit_transform(trainx)\n",
    "        x_test_proj = kpca.transform(testx)\n",
    "        knn = KNN(x_proj, trainy, x_test_proj, [7])\n",
    "\n",
    "    #     sum_up(knn[7], testy)\n",
    "        temp_acc = np.round(np.count_nonzero(knn[7] == testy)/len(testy),2)*100\n",
    "        accs.append(temp_acc)\n",
    "        print(f\"KNN accuracy: {temp_acc} % on {oss} axes\")\n",
    "\n",
    "    accuracy_plot(OS, accs)\n",
    "    \n",
    "kpca()"
   ]
  }
 ],
 "metadata": {
  "kernelspec": {
   "display_name": "Python 3",
   "language": "python",
   "name": "python3"
  },
  "language_info": {
   "codemirror_mode": {
    "name": "ipython",
    "version": 3
   },
   "file_extension": ".py",
   "mimetype": "text/x-python",
   "name": "python",
   "nbconvert_exporter": "python",
   "pygments_lexer": "ipython3",
   "version": "3.8.1"
  }
 },
 "nbformat": 4,
 "nbformat_minor": 4
}
